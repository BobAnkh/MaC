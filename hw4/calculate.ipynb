{
 "cells": [
  {
   "cell_type": "code",
   "execution_count": 1,
   "metadata": {},
   "outputs": [],
   "source": [
    "import numpy as np"
   ]
  },
  {
   "cell_type": "code",
   "execution_count": 20,
   "metadata": {},
   "outputs": [
    {
     "output_type": "stream",
     "name": "stdout",
     "text": "[[-22.5  ]\n [ 25.125]]\n"
    }
   ],
   "source": [
    "a=np.array([[-2,1]]).T\n",
    "b=np.array([[-1,1]]).T\n",
    "c=np.array([[0,3]]).T\n",
    "d=np.array([[0,-2]]).T\n",
    "e=np.array([[2,0]]).T\n",
    "f=np.array([[3,0]]).T\n",
    "u=(a+b+c)/3\n",
    "v=(d+e+f)/3\n",
    "N=6\n",
    "S=(np.dot((a-u),(a-u).T)+np.dot((b-u),(b-u).T)+np.dot((c-u),(c-u).T)+np.dot((d-v),(d-v).T)+np.dot((e-v),(e-v).T)+np.dot((f-v),(f-v).T))/N\n",
    "w=np.linalg.inv(S).dot(u-v)\n",
    "print(w)"
   ]
  },
  {
   "cell_type": "code",
   "execution_count": null,
   "metadata": {},
   "outputs": [],
   "source": []
  }
 ],
 "metadata": {
  "language_info": {
   "codemirror_mode": {
    "name": "ipython",
    "version": 3
   },
   "file_extension": ".py",
   "mimetype": "text/x-python",
   "name": "python",
   "nbconvert_exporter": "python",
   "pygments_lexer": "ipython3",
   "version": "3.7.6-final"
  },
  "orig_nbformat": 2,
  "kernelspec": {
   "name": "python3",
   "display_name": "Python 3"
  }
 },
 "nbformat": 4,
 "nbformat_minor": 2
}